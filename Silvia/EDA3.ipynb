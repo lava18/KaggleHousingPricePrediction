{
 "cells": [
  {
   "cell_type": "code",
   "execution_count": 290,
   "metadata": {},
   "outputs": [],
   "source": [
    "import pandas as pd\n",
    "import numpy as np\n",
    "import matplotlib.pyplot as plt\n",
    "import seaborn as sns\n",
    "%matplotlib inline\n",
    "from collections import Counter"
   ]
  },
  {
   "cell_type": "code",
   "execution_count": 291,
   "metadata": {},
   "outputs": [],
   "source": [
    "train = pd.read_csv('train.csv')\n",
    "test = pd.read_csv('test.csv')"
   ]
  },
  {
   "cell_type": "code",
   "execution_count": 292,
   "metadata": {},
   "outputs": [],
   "source": [
    "y = train['SalePrice']"
   ]
  },
  {
   "cell_type": "code",
   "execution_count": 293,
   "metadata": {},
   "outputs": [],
   "source": [
    "y = train['SalePrice']\n",
    "trainID = train['Id']\n",
    "testID = test['Id']\n",
    "train = train.drop(columns = ['SalePrice'])"
   ]
  },
  {
   "cell_type": "code",
   "execution_count": 294,
   "metadata": {},
   "outputs": [],
   "source": [
    "full = pd.concat([train,test], ignore_index=True, sort = False)"
   ]
  },
  {
   "cell_type": "code",
   "execution_count": 295,
   "metadata": {},
   "outputs": [],
   "source": [
    "def to_str(dataset):\n",
    "    dataset['MSSubClass'] = dataset['MSSubClass'].apply(str)\n",
    "    dataset['YrSold'] = dataset['YrSold'].astype(str)\n",
    "    dataset['MoSold'] = dataset['MoSold'].astype(str)\n",
    "to_str(full)\n",
    "to_str(train)\n",
    "to_str(test)\n",
    "categorical_features = full.select_dtypes(include=[np.object])\n",
    "numeric_features = full.select_dtypes(include=[np.number])"
   ]
  },
  {
   "cell_type": "code",
   "execution_count": 296,
   "metadata": {},
   "outputs": [],
   "source": [
    "def percent_missing(dataframe):\n",
    "    return dataframe.isnull().sum()/dataframe.isnull().count()"
   ]
  },
  {
   "cell_type": "code",
   "execution_count": 297,
   "metadata": {},
   "outputs": [],
   "source": [
    "missing_table = pd.concat([train.isnull().sum(),percent_missing(train),\n",
    "                          test.isnull().sum(),percent_missing(test),\n",
    "                          full.isnull().sum(), percent_missing(full)], axis=1, \n",
    "                         keys=['Total_train', 'Percent_train', 'Total_test', 'Percent_test',\n",
    "                              'Total_full', 'Percent_full'], sort = False)"
   ]
  },
  {
   "cell_type": "code",
   "execution_count": 298,
   "metadata": {
    "scrolled": true
   },
   "outputs": [
    {
     "data": {
      "text/html": [
       "<div>\n",
       "<style scoped>\n",
       "    .dataframe tbody tr th:only-of-type {\n",
       "        vertical-align: middle;\n",
       "    }\n",
       "\n",
       "    .dataframe tbody tr th {\n",
       "        vertical-align: top;\n",
       "    }\n",
       "\n",
       "    .dataframe thead th {\n",
       "        text-align: right;\n",
       "    }\n",
       "</style>\n",
       "<table border=\"1\" class=\"dataframe\">\n",
       "  <thead>\n",
       "    <tr style=\"text-align: right;\">\n",
       "      <th></th>\n",
       "      <th>Total_train</th>\n",
       "      <th>Percent_train</th>\n",
       "      <th>Total_test</th>\n",
       "      <th>Percent_test</th>\n",
       "      <th>Total_full</th>\n",
       "      <th>Percent_full</th>\n",
       "    </tr>\n",
       "  </thead>\n",
       "  <tbody>\n",
       "    <tr>\n",
       "      <th>MSZoning</th>\n",
       "      <td>0</td>\n",
       "      <td>0.000000</td>\n",
       "      <td>4</td>\n",
       "      <td>0.002742</td>\n",
       "      <td>4</td>\n",
       "      <td>0.001370</td>\n",
       "    </tr>\n",
       "    <tr>\n",
       "      <th>LotFrontage</th>\n",
       "      <td>259</td>\n",
       "      <td>0.177397</td>\n",
       "      <td>227</td>\n",
       "      <td>0.155586</td>\n",
       "      <td>486</td>\n",
       "      <td>0.166495</td>\n",
       "    </tr>\n",
       "    <tr>\n",
       "      <th>Alley</th>\n",
       "      <td>1369</td>\n",
       "      <td>0.937671</td>\n",
       "      <td>1352</td>\n",
       "      <td>0.926662</td>\n",
       "      <td>2721</td>\n",
       "      <td>0.932169</td>\n",
       "    </tr>\n",
       "    <tr>\n",
       "      <th>Utilities</th>\n",
       "      <td>0</td>\n",
       "      <td>0.000000</td>\n",
       "      <td>2</td>\n",
       "      <td>0.001371</td>\n",
       "      <td>2</td>\n",
       "      <td>0.000685</td>\n",
       "    </tr>\n",
       "    <tr>\n",
       "      <th>Exterior1st</th>\n",
       "      <td>0</td>\n",
       "      <td>0.000000</td>\n",
       "      <td>1</td>\n",
       "      <td>0.000685</td>\n",
       "      <td>1</td>\n",
       "      <td>0.000343</td>\n",
       "    </tr>\n",
       "    <tr>\n",
       "      <th>Exterior2nd</th>\n",
       "      <td>0</td>\n",
       "      <td>0.000000</td>\n",
       "      <td>1</td>\n",
       "      <td>0.000685</td>\n",
       "      <td>1</td>\n",
       "      <td>0.000343</td>\n",
       "    </tr>\n",
       "    <tr>\n",
       "      <th>MasVnrType</th>\n",
       "      <td>8</td>\n",
       "      <td>0.005479</td>\n",
       "      <td>16</td>\n",
       "      <td>0.010966</td>\n",
       "      <td>24</td>\n",
       "      <td>0.008222</td>\n",
       "    </tr>\n",
       "    <tr>\n",
       "      <th>MasVnrArea</th>\n",
       "      <td>8</td>\n",
       "      <td>0.005479</td>\n",
       "      <td>15</td>\n",
       "      <td>0.010281</td>\n",
       "      <td>23</td>\n",
       "      <td>0.007879</td>\n",
       "    </tr>\n",
       "    <tr>\n",
       "      <th>BsmtQual</th>\n",
       "      <td>37</td>\n",
       "      <td>0.025342</td>\n",
       "      <td>44</td>\n",
       "      <td>0.030158</td>\n",
       "      <td>81</td>\n",
       "      <td>0.027749</td>\n",
       "    </tr>\n",
       "    <tr>\n",
       "      <th>BsmtCond</th>\n",
       "      <td>37</td>\n",
       "      <td>0.025342</td>\n",
       "      <td>45</td>\n",
       "      <td>0.030843</td>\n",
       "      <td>82</td>\n",
       "      <td>0.028092</td>\n",
       "    </tr>\n",
       "    <tr>\n",
       "      <th>BsmtExposure</th>\n",
       "      <td>38</td>\n",
       "      <td>0.026027</td>\n",
       "      <td>44</td>\n",
       "      <td>0.030158</td>\n",
       "      <td>82</td>\n",
       "      <td>0.028092</td>\n",
       "    </tr>\n",
       "    <tr>\n",
       "      <th>BsmtFinType1</th>\n",
       "      <td>37</td>\n",
       "      <td>0.025342</td>\n",
       "      <td>42</td>\n",
       "      <td>0.028787</td>\n",
       "      <td>79</td>\n",
       "      <td>0.027064</td>\n",
       "    </tr>\n",
       "    <tr>\n",
       "      <th>BsmtFinSF1</th>\n",
       "      <td>0</td>\n",
       "      <td>0.000000</td>\n",
       "      <td>1</td>\n",
       "      <td>0.000685</td>\n",
       "      <td>1</td>\n",
       "      <td>0.000343</td>\n",
       "    </tr>\n",
       "    <tr>\n",
       "      <th>BsmtFinType2</th>\n",
       "      <td>38</td>\n",
       "      <td>0.026027</td>\n",
       "      <td>42</td>\n",
       "      <td>0.028787</td>\n",
       "      <td>80</td>\n",
       "      <td>0.027407</td>\n",
       "    </tr>\n",
       "    <tr>\n",
       "      <th>BsmtFinSF2</th>\n",
       "      <td>0</td>\n",
       "      <td>0.000000</td>\n",
       "      <td>1</td>\n",
       "      <td>0.000685</td>\n",
       "      <td>1</td>\n",
       "      <td>0.000343</td>\n",
       "    </tr>\n",
       "    <tr>\n",
       "      <th>BsmtUnfSF</th>\n",
       "      <td>0</td>\n",
       "      <td>0.000000</td>\n",
       "      <td>1</td>\n",
       "      <td>0.000685</td>\n",
       "      <td>1</td>\n",
       "      <td>0.000343</td>\n",
       "    </tr>\n",
       "    <tr>\n",
       "      <th>TotalBsmtSF</th>\n",
       "      <td>0</td>\n",
       "      <td>0.000000</td>\n",
       "      <td>1</td>\n",
       "      <td>0.000685</td>\n",
       "      <td>1</td>\n",
       "      <td>0.000343</td>\n",
       "    </tr>\n",
       "    <tr>\n",
       "      <th>Electrical</th>\n",
       "      <td>1</td>\n",
       "      <td>0.000685</td>\n",
       "      <td>0</td>\n",
       "      <td>0.000000</td>\n",
       "      <td>1</td>\n",
       "      <td>0.000343</td>\n",
       "    </tr>\n",
       "    <tr>\n",
       "      <th>BsmtFullBath</th>\n",
       "      <td>0</td>\n",
       "      <td>0.000000</td>\n",
       "      <td>2</td>\n",
       "      <td>0.001371</td>\n",
       "      <td>2</td>\n",
       "      <td>0.000685</td>\n",
       "    </tr>\n",
       "    <tr>\n",
       "      <th>BsmtHalfBath</th>\n",
       "      <td>0</td>\n",
       "      <td>0.000000</td>\n",
       "      <td>2</td>\n",
       "      <td>0.001371</td>\n",
       "      <td>2</td>\n",
       "      <td>0.000685</td>\n",
       "    </tr>\n",
       "    <tr>\n",
       "      <th>KitchenQual</th>\n",
       "      <td>0</td>\n",
       "      <td>0.000000</td>\n",
       "      <td>1</td>\n",
       "      <td>0.000685</td>\n",
       "      <td>1</td>\n",
       "      <td>0.000343</td>\n",
       "    </tr>\n",
       "    <tr>\n",
       "      <th>Functional</th>\n",
       "      <td>0</td>\n",
       "      <td>0.000000</td>\n",
       "      <td>2</td>\n",
       "      <td>0.001371</td>\n",
       "      <td>2</td>\n",
       "      <td>0.000685</td>\n",
       "    </tr>\n",
       "    <tr>\n",
       "      <th>FireplaceQu</th>\n",
       "      <td>690</td>\n",
       "      <td>0.472603</td>\n",
       "      <td>730</td>\n",
       "      <td>0.500343</td>\n",
       "      <td>1420</td>\n",
       "      <td>0.486468</td>\n",
       "    </tr>\n",
       "    <tr>\n",
       "      <th>GarageType</th>\n",
       "      <td>81</td>\n",
       "      <td>0.055479</td>\n",
       "      <td>76</td>\n",
       "      <td>0.052090</td>\n",
       "      <td>157</td>\n",
       "      <td>0.053786</td>\n",
       "    </tr>\n",
       "    <tr>\n",
       "      <th>GarageYrBlt</th>\n",
       "      <td>81</td>\n",
       "      <td>0.055479</td>\n",
       "      <td>78</td>\n",
       "      <td>0.053461</td>\n",
       "      <td>159</td>\n",
       "      <td>0.054471</td>\n",
       "    </tr>\n",
       "    <tr>\n",
       "      <th>GarageFinish</th>\n",
       "      <td>81</td>\n",
       "      <td>0.055479</td>\n",
       "      <td>78</td>\n",
       "      <td>0.053461</td>\n",
       "      <td>159</td>\n",
       "      <td>0.054471</td>\n",
       "    </tr>\n",
       "    <tr>\n",
       "      <th>GarageCars</th>\n",
       "      <td>0</td>\n",
       "      <td>0.000000</td>\n",
       "      <td>1</td>\n",
       "      <td>0.000685</td>\n",
       "      <td>1</td>\n",
       "      <td>0.000343</td>\n",
       "    </tr>\n",
       "    <tr>\n",
       "      <th>GarageArea</th>\n",
       "      <td>0</td>\n",
       "      <td>0.000000</td>\n",
       "      <td>1</td>\n",
       "      <td>0.000685</td>\n",
       "      <td>1</td>\n",
       "      <td>0.000343</td>\n",
       "    </tr>\n",
       "    <tr>\n",
       "      <th>GarageQual</th>\n",
       "      <td>81</td>\n",
       "      <td>0.055479</td>\n",
       "      <td>78</td>\n",
       "      <td>0.053461</td>\n",
       "      <td>159</td>\n",
       "      <td>0.054471</td>\n",
       "    </tr>\n",
       "    <tr>\n",
       "      <th>GarageCond</th>\n",
       "      <td>81</td>\n",
       "      <td>0.055479</td>\n",
       "      <td>78</td>\n",
       "      <td>0.053461</td>\n",
       "      <td>159</td>\n",
       "      <td>0.054471</td>\n",
       "    </tr>\n",
       "    <tr>\n",
       "      <th>PoolQC</th>\n",
       "      <td>1453</td>\n",
       "      <td>0.995205</td>\n",
       "      <td>1456</td>\n",
       "      <td>0.997944</td>\n",
       "      <td>2909</td>\n",
       "      <td>0.996574</td>\n",
       "    </tr>\n",
       "    <tr>\n",
       "      <th>Fence</th>\n",
       "      <td>1179</td>\n",
       "      <td>0.807534</td>\n",
       "      <td>1169</td>\n",
       "      <td>0.801234</td>\n",
       "      <td>2348</td>\n",
       "      <td>0.804385</td>\n",
       "    </tr>\n",
       "    <tr>\n",
       "      <th>MiscFeature</th>\n",
       "      <td>1406</td>\n",
       "      <td>0.963014</td>\n",
       "      <td>1408</td>\n",
       "      <td>0.965045</td>\n",
       "      <td>2814</td>\n",
       "      <td>0.964029</td>\n",
       "    </tr>\n",
       "    <tr>\n",
       "      <th>SaleType</th>\n",
       "      <td>0</td>\n",
       "      <td>0.000000</td>\n",
       "      <td>1</td>\n",
       "      <td>0.000685</td>\n",
       "      <td>1</td>\n",
       "      <td>0.000343</td>\n",
       "    </tr>\n",
       "  </tbody>\n",
       "</table>\n",
       "</div>"
      ],
      "text/plain": [
       "              Total_train  Percent_train  Total_test  Percent_test  \\\n",
       "MSZoning                0       0.000000           4      0.002742   \n",
       "LotFrontage           259       0.177397         227      0.155586   \n",
       "Alley                1369       0.937671        1352      0.926662   \n",
       "Utilities               0       0.000000           2      0.001371   \n",
       "Exterior1st             0       0.000000           1      0.000685   \n",
       "Exterior2nd             0       0.000000           1      0.000685   \n",
       "MasVnrType              8       0.005479          16      0.010966   \n",
       "MasVnrArea              8       0.005479          15      0.010281   \n",
       "BsmtQual               37       0.025342          44      0.030158   \n",
       "BsmtCond               37       0.025342          45      0.030843   \n",
       "BsmtExposure           38       0.026027          44      0.030158   \n",
       "BsmtFinType1           37       0.025342          42      0.028787   \n",
       "BsmtFinSF1              0       0.000000           1      0.000685   \n",
       "BsmtFinType2           38       0.026027          42      0.028787   \n",
       "BsmtFinSF2              0       0.000000           1      0.000685   \n",
       "BsmtUnfSF               0       0.000000           1      0.000685   \n",
       "TotalBsmtSF             0       0.000000           1      0.000685   \n",
       "Electrical              1       0.000685           0      0.000000   \n",
       "BsmtFullBath            0       0.000000           2      0.001371   \n",
       "BsmtHalfBath            0       0.000000           2      0.001371   \n",
       "KitchenQual             0       0.000000           1      0.000685   \n",
       "Functional              0       0.000000           2      0.001371   \n",
       "FireplaceQu           690       0.472603         730      0.500343   \n",
       "GarageType             81       0.055479          76      0.052090   \n",
       "GarageYrBlt            81       0.055479          78      0.053461   \n",
       "GarageFinish           81       0.055479          78      0.053461   \n",
       "GarageCars              0       0.000000           1      0.000685   \n",
       "GarageArea              0       0.000000           1      0.000685   \n",
       "GarageQual             81       0.055479          78      0.053461   \n",
       "GarageCond             81       0.055479          78      0.053461   \n",
       "PoolQC               1453       0.995205        1456      0.997944   \n",
       "Fence                1179       0.807534        1169      0.801234   \n",
       "MiscFeature          1406       0.963014        1408      0.965045   \n",
       "SaleType                0       0.000000           1      0.000685   \n",
       "\n",
       "              Total_full  Percent_full  \n",
       "MSZoning               4      0.001370  \n",
       "LotFrontage          486      0.166495  \n",
       "Alley               2721      0.932169  \n",
       "Utilities              2      0.000685  \n",
       "Exterior1st            1      0.000343  \n",
       "Exterior2nd            1      0.000343  \n",
       "MasVnrType            24      0.008222  \n",
       "MasVnrArea            23      0.007879  \n",
       "BsmtQual              81      0.027749  \n",
       "BsmtCond              82      0.028092  \n",
       "BsmtExposure          82      0.028092  \n",
       "BsmtFinType1          79      0.027064  \n",
       "BsmtFinSF1             1      0.000343  \n",
       "BsmtFinType2          80      0.027407  \n",
       "BsmtFinSF2             1      0.000343  \n",
       "BsmtUnfSF              1      0.000343  \n",
       "TotalBsmtSF            1      0.000343  \n",
       "Electrical             1      0.000343  \n",
       "BsmtFullBath           2      0.000685  \n",
       "BsmtHalfBath           2      0.000685  \n",
       "KitchenQual            1      0.000343  \n",
       "Functional             2      0.000685  \n",
       "FireplaceQu         1420      0.486468  \n",
       "GarageType           157      0.053786  \n",
       "GarageYrBlt          159      0.054471  \n",
       "GarageFinish         159      0.054471  \n",
       "GarageCars             1      0.000343  \n",
       "GarageArea             1      0.000343  \n",
       "GarageQual           159      0.054471  \n",
       "GarageCond           159      0.054471  \n",
       "PoolQC              2909      0.996574  \n",
       "Fence               2348      0.804385  \n",
       "MiscFeature         2814      0.964029  \n",
       "SaleType               1      0.000343  "
      ]
     },
     "execution_count": 298,
     "metadata": {},
     "output_type": "execute_result"
    }
   ],
   "source": [
    "missing_table[missing_table.Total_full!=0]"
   ]
  },
  {
   "cell_type": "code",
   "execution_count": 253,
   "metadata": {},
   "outputs": [],
   "source": [
    "test.loc[test.MSZoning.isnull(),'MSZoning'] = 'RL'\n",
    "test.loc[test.Utilities.isnull(),'Utilities'] = 'AllPub'\n",
    "test.loc[test.Exterior1st.isnull(),'Exterior1st'] = 'WdShing'\n",
    "test.loc[test.Exterior2nd.isnull(),'Exterior2nd'] = 'Wd Shng'\n",
    "train.loc[train.Electrical.isnull(),'Electrical'] = 'Sbrkr'\n",
    "test.loc[test.KitchenQual.isnull(),'KitchenQual'] = 'TA'\n",
    "test.loc[test.Functional.isnull(),'Functional'] = 'Typ'\n",
    "test.loc[test.SaleType.isnull(),'SaleType'] = 'WD'"
   ]
  },
  {
   "cell_type": "code",
   "execution_count": 254,
   "metadata": {},
   "outputs": [],
   "source": [
    "test.loc[1150,'MasVnrType'] = 'BrkFace'"
   ]
  },
  {
   "cell_type": "code",
   "execution_count": 255,
   "metadata": {},
   "outputs": [],
   "source": [
    "test.loc[test.MasVnrType.isnull(),'MasVnrType'] = 'None'\n",
    "test.loc[test.MasVnrArea.isnull(),'MasVnrArea'] = 0\n",
    "train.loc[train.MasVnrType.isnull(),'MasVnrType'] = 'None'\n",
    "train.loc[train.MasVnrArea.isnull(),'MasVnrArea'] = 0"
   ]
  },
  {
   "cell_type": "code",
   "execution_count": 256,
   "metadata": {},
   "outputs": [],
   "source": [
    "test.loc[test.FireplaceQu.isnull(),'FireplaceQu'] = 'None'\n",
    "train.loc[train.FireplaceQu.isnull(),'FireplaceQu'] = 'None'"
   ]
  },
  {
   "cell_type": "code",
   "execution_count": 257,
   "metadata": {},
   "outputs": [],
   "source": [
    "test.loc[test.Fence.isnull(),'Fence'] = 'None'\n",
    "train.loc[train.Fence.isnull(),'Fence'] = 'None'"
   ]
  },
  {
   "cell_type": "code",
   "execution_count": 258,
   "metadata": {},
   "outputs": [],
   "source": [
    "test.loc[960,'PoolQC'] = 'Fa'\n",
    "test.loc[1043,'PoolQC'] = 'Gd'\n",
    "test.loc[1139,'PoolQC'] = 'Gd'"
   ]
  },
  {
   "cell_type": "code",
   "execution_count": 259,
   "metadata": {},
   "outputs": [],
   "source": [
    "test.loc[test.PoolQC.isnull(),'PoolQC'] = 'None'\n",
    "train.loc[train.PoolQC.isnull(),'PoolQC'] = 'None'"
   ]
  },
  {
   "cell_type": "code",
   "execution_count": 260,
   "metadata": {},
   "outputs": [],
   "source": [
    "test.loc[1089,'MiscFeature'] = 'Shed'"
   ]
  },
  {
   "cell_type": "code",
   "execution_count": 261,
   "metadata": {},
   "outputs": [],
   "source": [
    "test.loc[test.MiscFeature.isnull(),'MiscFeature'] = 'None'\n",
    "train.loc[train.MiscFeature.isnull(),'MiscFeature'] = 'None'"
   ]
  },
  {
   "cell_type": "code",
   "execution_count": 262,
   "metadata": {},
   "outputs": [],
   "source": [
    "test.loc[test.Alley.isnull(),'Alley'] = 'None'\n",
    "train.loc[train.Alley.isnull(),'Alley'] = 'None'"
   ]
  },
  {
   "cell_type": "code",
   "execution_count": 263,
   "metadata": {},
   "outputs": [],
   "source": [
    "# Basement columns\n",
    "# Impute id 2189 and 2121 numeric NA values to 0 since they are missing and \n",
    "# there is no evidence to support that there is a number for them.\n",
    "test[test.Id==2189].index\n",
    "test.loc[728,'BsmtFullBath']=0\n",
    "test.loc[728,'BsmtHalfBath']=0\n",
    "test[test.Id==2121].index\n",
    "test.loc[660,'BsmtFinSF1']=0\n",
    "test.loc[660,'BsmtFinSF2']=0\n",
    "test.loc[660,'BsmtUnfSF']=0\n",
    "test.loc[660,'BsmtFullBath']=0\n",
    "test.loc[660,'TotalBsmtSF']=0\n",
    "test.loc[660,'BsmtHalfBath']=0"
   ]
  },
  {
   "cell_type": "code",
   "execution_count": 264,
   "metadata": {},
   "outputs": [],
   "source": [
    "#BsmtFinType1\n",
    "train.loc[train.BsmtFinType1.isnull(),'BsmtFinType1'] = 'None'\n",
    "test.loc[test.BsmtFinType1.isnull(),'BsmtFinType1'] = 'None'"
   ]
  },
  {
   "cell_type": "code",
   "execution_count": 265,
   "metadata": {},
   "outputs": [],
   "source": [
    "#BsmtFinType2\n",
    "train.loc[332,'BsmtFinType2'] = 'Unf'"
   ]
  },
  {
   "cell_type": "code",
   "execution_count": 266,
   "metadata": {},
   "outputs": [],
   "source": [
    "train.loc[train.BsmtFinType2.isnull(),'BsmtFinType2'] = 'None'\n",
    "test.loc[test.BsmtFinType2.isnull(),'BsmtFinType2'] = 'None'"
   ]
  },
  {
   "cell_type": "code",
   "execution_count": 267,
   "metadata": {},
   "outputs": [],
   "source": [
    "#BsmtExposure\n",
    "train.loc[948,'BsmtExposure'] = 'Gd'\n",
    "test.loc[27,'BsmtExposure'] = 'Gd'\n",
    "test.loc[888,'BsmtExposure'] = 'Gd'"
   ]
  },
  {
   "cell_type": "code",
   "execution_count": 268,
   "metadata": {},
   "outputs": [],
   "source": [
    "#BsmtCond\n",
    "test.loc[580,'BsmtCond'] = 'TA'\n",
    "test.loc[725,'BsmtCond'] = 'Gd'\n",
    "test.loc[1064,'BsmtCond'] = 'TA'"
   ]
  },
  {
   "cell_type": "code",
   "execution_count": 269,
   "metadata": {},
   "outputs": [],
   "source": [
    "#BsmtQual\n",
    "test.loc[757,'BsmtQual'] = 'Gd'\n",
    "test.loc[758,'BsmtQual'] = 'TA'"
   ]
  },
  {
   "cell_type": "code",
   "execution_count": 270,
   "metadata": {},
   "outputs": [],
   "source": [
    "train.loc[train.BsmtExposure.isnull(),'BsmtExposure'] = 'None'\n",
    "test.loc[test.BsmtExposure.isnull(),'BsmtExposure'] = 'None'\n",
    "train.loc[train.BsmtCond.isnull(),'BsmtCond'] = 'None'\n",
    "test.loc[test.BsmtCond.isnull(),'BsmtCond'] = 'None'\n",
    "train.loc[train.BsmtQual.isnull(),'BsmtQual'] = 'None'\n",
    "test.loc[test.BsmtQual.isnull(),'BsmtQual'] = 'None'"
   ]
  },
  {
   "cell_type": "code",
   "execution_count": 271,
   "metadata": {},
   "outputs": [],
   "source": [
    "# Garage Data Id 2577 house misses all garage data and only the garage data.\n",
    "test.loc[1116,'GarageYrBlt'] = 0\n",
    "test.loc[1116,'GarageFinish'] = 'None'\n",
    "test.loc[1116,'GarageCars'] = 0\n",
    "test.loc[1116,'GarageArea'] = 0 \n",
    "test.loc[1116,'GarageQual'] = 'None'\n",
    "test.loc[1116,'GarageCond'] = 'None'"
   ]
  },
  {
   "cell_type": "code",
   "execution_count": 272,
   "metadata": {},
   "outputs": [],
   "source": [
    "# Another missing point is Id 2127 house, where there is an area for the\n",
    "# garage, but there is no information for the yearbuilt, garagefinish,\n",
    "# garagequal and garagecond. I will impute those values with the most\n",
    "# similar data point in the dataset. \n",
    "test.loc[666,'GarageYrBlt'] = 1956\n",
    "test.loc[666,'GarageFinish'] = 'Unf'\n",
    "test.loc[666,'GarageQual'] = 'TA'\n",
    "test.loc[666,'GarageCond'] = 'TA'"
   ]
  },
  {
   "cell_type": "code",
   "execution_count": 273,
   "metadata": {},
   "outputs": [],
   "source": [
    "# Now that all NA values in the garage columns are those that don't have \n",
    "# a garage. So we can transform year to 0 and categorical features to\n",
    "# 'None'\n",
    "train.loc[train.GarageYrBlt.isnull(),'GarageYrBlt'] = 0\n",
    "test.loc[test.GarageYrBlt.isnull(),'GarageYrBlt'] = 0\n",
    "train.loc[train.GarageFinish.isnull(),'GarageFinish'] = 'None'\n",
    "test.loc[test.GarageFinish.isnull(),'GarageFinish'] = 'None'\n",
    "train.loc[train.GarageQual.isnull(),'GarageQual'] = 'None'\n",
    "test.loc[test.GarageQual.isnull(),'GarageQual'] = 'None'\n",
    "train.loc[train.GarageCond.isnull(),'GarageCond'] = 'None'\n",
    "test.loc[test.GarageCond.isnull(),'GarageCond'] = 'None'\n",
    "train.loc[train.GarageType.isnull(),'GarageType'] = 'None'\n",
    "test.loc[test.GarageType.isnull(),'GarageType'] = 'None'"
   ]
  },
  {
   "cell_type": "code",
   "execution_count": 274,
   "metadata": {},
   "outputs": [],
   "source": [
    "# How to handle this column needs attention. I will try several ways\n",
    "# to do it. The first way is to take it as 0. "
   ]
  },
  {
   "cell_type": "code",
   "execution_count": 275,
   "metadata": {},
   "outputs": [],
   "source": [
    "# However this is risky because there is no 0 value in the dataset, \n",
    "# suggesting that perhaps 0 is not a reasonable number for this \n",
    "# variable. "
   ]
  },
  {
   "cell_type": "code",
   "execution_count": 276,
   "metadata": {},
   "outputs": [],
   "source": [
    "train.loc[train.LotFrontage.isnull(),'LotFrontage'] = 0\n",
    "test.loc[test.LotFrontage.isnull(),'LotFrontage'] = 0"
   ]
  },
  {
   "cell_type": "code",
   "execution_count": 277,
   "metadata": {},
   "outputs": [],
   "source": [
    "full2 = pd.concat([train,test], ignore_index=True, sort = False)"
   ]
  },
  {
   "cell_type": "code",
   "execution_count": 278,
   "metadata": {},
   "outputs": [
    {
     "data": {
      "text/html": [
       "<div>\n",
       "<style scoped>\n",
       "    .dataframe tbody tr th:only-of-type {\n",
       "        vertical-align: middle;\n",
       "    }\n",
       "\n",
       "    .dataframe tbody tr th {\n",
       "        vertical-align: top;\n",
       "    }\n",
       "\n",
       "    .dataframe thead th {\n",
       "        text-align: right;\n",
       "    }\n",
       "</style>\n",
       "<table border=\"1\" class=\"dataframe\">\n",
       "  <thead>\n",
       "    <tr style=\"text-align: right;\">\n",
       "      <th></th>\n",
       "      <th>Total_train</th>\n",
       "      <th>Percent_train</th>\n",
       "      <th>Total_test</th>\n",
       "      <th>Percent_test</th>\n",
       "      <th>Total_full</th>\n",
       "      <th>Percent_full</th>\n",
       "    </tr>\n",
       "  </thead>\n",
       "  <tbody>\n",
       "  </tbody>\n",
       "</table>\n",
       "</div>"
      ],
      "text/plain": [
       "Empty DataFrame\n",
       "Columns: [Total_train, Percent_train, Total_test, Percent_test, Total_full, Percent_full]\n",
       "Index: []"
      ]
     },
     "execution_count": 278,
     "metadata": {},
     "output_type": "execute_result"
    }
   ],
   "source": [
    "misstable2 = pd.concat([train.isnull().sum(),percent_missing(train),\n",
    "                          test.isnull().sum(),percent_missing(test),\n",
    "                          full2.isnull().sum(), percent_missing(full2)], axis=1, \n",
    "                         keys=['Total_train', 'Percent_train', 'Total_test', 'Percent_test',\n",
    "                              'Total_full', 'Percent_full'], sort = False)\n",
    "misstable2[misstable2.Total_full!=0]"
   ]
  },
  {
   "cell_type": "code",
   "execution_count": 171,
   "metadata": {},
   "outputs": [],
   "source": [
    "# Now there is no missing values in the dataset. \n",
    "# one-hot coding for the first round. "
   ]
  },
  {
   "cell_type": "code",
   "execution_count": 234,
   "metadata": {},
   "outputs": [
    {
     "name": "stderr",
     "output_type": "stream",
     "text": [
      "/Users/lujian/anaconda2/envs/py36/lib/python3.6/site-packages/sklearn/ensemble/forest.py:724: UserWarning: Some inputs do not have OOB scores. This probably means too few trees were used to compute any reliable oob estimates.\n",
      "  warn(\"Some inputs do not have OOB scores. \"\n"
     ]
    },
    {
     "data": {
      "text/plain": [
       "RandomForestRegressor(bootstrap=True, criterion='mse', max_depth=None,\n",
       "           max_features='auto', max_leaf_nodes=None,\n",
       "           min_impurity_decrease=0.0, min_impurity_split=None,\n",
       "           min_samples_leaf=1, min_samples_split=2,\n",
       "           min_weight_fraction_leaf=0.0, n_estimators=10, n_jobs=1,\n",
       "           oob_score=True, random_state=42, verbose=0, warm_start=False)"
      ]
     },
     "execution_count": 234,
     "metadata": {},
     "output_type": "execute_result"
    }
   ],
   "source": [
    "from sklearn import ensemble\n",
    "randomForest = ensemble.RandomForestRegressor()\n",
    "randomForest.set_params(oob_score=True, random_state=42)\n",
    "randomForest.fit(x_train,y)"
   ]
  },
  {
   "cell_type": "code",
   "execution_count": 235,
   "metadata": {},
   "outputs": [
    {
     "data": {
      "text/plain": [
       "0.7057272443702111"
      ]
     },
     "execution_count": 235,
     "metadata": {},
     "output_type": "execute_result"
    }
   ],
   "source": [
    "randomForest.oob_score_"
   ]
  },
  {
   "cell_type": "code",
   "execution_count": 279,
   "metadata": {},
   "outputs": [],
   "source": [
    "one_hot_full2 = pd.get_dummies(full2,drop_first=True,dummy_na=False)\n"
   ]
  },
  {
   "cell_type": "code",
   "execution_count": 280,
   "metadata": {},
   "outputs": [],
   "source": [
    "x_train = one_hot_full2.iloc[:1460,1:]"
   ]
  },
  {
   "cell_type": "code",
   "execution_count": 281,
   "metadata": {},
   "outputs": [],
   "source": [
    "x_test = one_hot_full2.iloc[1460:,1:]"
   ]
  },
  {
   "cell_type": "code",
   "execution_count": 282,
   "metadata": {
    "scrolled": true
   },
   "outputs": [
    {
     "data": {
      "text/plain": [
       "(1460, 287)"
      ]
     },
     "execution_count": 282,
     "metadata": {},
     "output_type": "execute_result"
    }
   ],
   "source": [
    "x_train.shape"
   ]
  },
  {
   "cell_type": "code",
   "execution_count": 283,
   "metadata": {},
   "outputs": [
    {
     "data": {
      "text/plain": [
       "(1459, 287)"
      ]
     },
     "execution_count": 283,
     "metadata": {},
     "output_type": "execute_result"
    }
   ],
   "source": [
    "x_test.shape"
   ]
  },
  {
   "cell_type": "code",
   "execution_count": 285,
   "metadata": {},
   "outputs": [],
   "source": [
    "from sklearn.ensemble import GradientBoostingRegressor"
   ]
  },
  {
   "cell_type": "code",
   "execution_count": 286,
   "metadata": {},
   "outputs": [],
   "source": [
    "myGBR = GradientBoostingRegressor(n_estimators=3000, learning_rate=0.02,\n",
    "                                      max_depth=4, max_features='sqrt',\n",
    "                                      min_samples_leaf=15, min_samples_split=50,\n",
    "                                      loss='huber', random_state = 5) \n",
    "    \n",
    "myGBR.fit(x_train,y)\n",
    "pred_train_GBR = myGBR.predict(x_train)\n",
    "\n",
    "pred_test_GBR = myGBR.predict(x_test)"
   ]
  },
  {
   "cell_type": "code",
   "execution_count": 239,
   "metadata": {},
   "outputs": [],
   "source": [
    "from sklearn.metrics import mean_squared_error"
   ]
  },
  {
   "cell_type": "code",
   "execution_count": 240,
   "metadata": {},
   "outputs": [],
   "source": [
    "def rmsle(y,y_pred):\n",
    "    return np.sqrt(mean_squared_error(y,y_pred))"
   ]
  },
  {
   "cell_type": "code",
   "execution_count": 287,
   "metadata": {},
   "outputs": [
    {
     "data": {
      "text/plain": [
       "array([208582.55770425, 174429.31675395, 214792.84693745, ...,\n",
       "       263850.52060748, 140483.93558618, 148766.05129631])"
      ]
     },
     "execution_count": 287,
     "metadata": {},
     "output_type": "execute_result"
    }
   ],
   "source": [
    "pred_train_GBR"
   ]
  },
  {
   "cell_type": "code",
   "execution_count": 242,
   "metadata": {},
   "outputs": [
    {
     "data": {
      "text/plain": [
       "0.07697207130663204"
      ]
     },
     "execution_count": 242,
     "metadata": {},
     "output_type": "execute_result"
    }
   ],
   "source": [
    "rmsle(y,pred_train_GBR)"
   ]
  },
  {
   "cell_type": "code",
   "execution_count": 288,
   "metadata": {},
   "outputs": [
    {
     "data": {
      "text/plain": [
       "array([123456.27060771, 161034.24201721, 190254.43505381, ...,\n",
       "       169706.69641506, 122463.23448554, 220482.23191027])"
      ]
     },
     "execution_count": 288,
     "metadata": {},
     "output_type": "execute_result"
    }
   ],
   "source": [
    "pred_test_GBR"
   ]
  },
  {
   "cell_type": "code",
   "execution_count": 289,
   "metadata": {},
   "outputs": [],
   "source": [
    "my_submission = pd.DataFrame({'Id': test.Id, 'SalePrice': pred_test_GBR})\n",
    "# you could use any filename. We choose submission here\n",
    "my_submission.to_csv('submission.csv', index=False)"
   ]
  },
  {
   "cell_type": "code",
   "execution_count": 300,
   "metadata": {},
   "outputs": [],
   "source": [
    "from scipy.stats import chisquare"
   ]
  },
  {
   "cell_type": "code",
   "execution_count": 301,
   "metadata": {},
   "outputs": [
    {
     "ename": "TypeError",
     "evalue": "unsupported operand type(s) for -: 'str' and 'str'",
     "output_type": "error",
     "traceback": [
      "\u001b[0;31m---------------------------------------------------------------------------\u001b[0m",
      "\u001b[0;31mTypeError\u001b[0m                                 Traceback (most recent call last)",
      "\u001b[0;32m<ipython-input-301-82cdbdf874f5>\u001b[0m in \u001b[0;36m<module>\u001b[0;34m()\u001b[0m\n\u001b[0;32m----> 1\u001b[0;31m \u001b[0mchisquare\u001b[0m\u001b[0;34m(\u001b[0m\u001b[0mfull2\u001b[0m\u001b[0;34m.\u001b[0m\u001b[0mPoolQC\u001b[0m\u001b[0;34m,\u001b[0m\u001b[0mfull2\u001b[0m\u001b[0;34m.\u001b[0m\u001b[0mBsmtQual\u001b[0m\u001b[0;34m)\u001b[0m\u001b[0;34m\u001b[0m\u001b[0m\n\u001b[0m",
      "\u001b[0;32m~/anaconda2/envs/py36/lib/python3.6/site-packages/scipy/stats/stats.py\u001b[0m in \u001b[0;36mchisquare\u001b[0;34m(f_obs, f_exp, ddof, axis)\u001b[0m\n\u001b[1;32m   4698\u001b[0m     \"\"\"\n\u001b[1;32m   4699\u001b[0m     return power_divergence(f_obs, f_exp=f_exp, ddof=ddof, axis=axis,\n\u001b[0;32m-> 4700\u001b[0;31m                             lambda_=\"pearson\")\n\u001b[0m\u001b[1;32m   4701\u001b[0m \u001b[0;34m\u001b[0m\u001b[0m\n\u001b[1;32m   4702\u001b[0m \u001b[0;34m\u001b[0m\u001b[0m\n",
      "\u001b[0;32m~/anaconda2/envs/py36/lib/python3.6/site-packages/scipy/stats/stats.py\u001b[0m in \u001b[0;36mpower_divergence\u001b[0;34m(f_obs, f_exp, ddof, axis, lambda_)\u001b[0m\n\u001b[1;32m   4565\u001b[0m     \u001b[0;32mif\u001b[0m \u001b[0mlambda_\u001b[0m \u001b[0;34m==\u001b[0m \u001b[0;36m1\u001b[0m\u001b[0;34m:\u001b[0m\u001b[0;34m\u001b[0m\u001b[0m\n\u001b[1;32m   4566\u001b[0m         \u001b[0;31m# Pearson's chi-squared statistic\u001b[0m\u001b[0;34m\u001b[0m\u001b[0;34m\u001b[0m\u001b[0m\n\u001b[0;32m-> 4567\u001b[0;31m         \u001b[0mterms\u001b[0m \u001b[0;34m=\u001b[0m \u001b[0;34m(\u001b[0m\u001b[0mf_obs\u001b[0m \u001b[0;34m-\u001b[0m \u001b[0mf_exp\u001b[0m\u001b[0;34m)\u001b[0m\u001b[0;34m**\u001b[0m\u001b[0;36m2\u001b[0m \u001b[0;34m/\u001b[0m \u001b[0mf_exp\u001b[0m\u001b[0;34m\u001b[0m\u001b[0m\n\u001b[0m\u001b[1;32m   4568\u001b[0m     \u001b[0;32melif\u001b[0m \u001b[0mlambda_\u001b[0m \u001b[0;34m==\u001b[0m \u001b[0;36m0\u001b[0m\u001b[0;34m:\u001b[0m\u001b[0;34m\u001b[0m\u001b[0m\n\u001b[1;32m   4569\u001b[0m         \u001b[0;31m# Log-likelihood ratio (i.e. G-test)\u001b[0m\u001b[0;34m\u001b[0m\u001b[0;34m\u001b[0m\u001b[0m\n",
      "\u001b[0;31mTypeError\u001b[0m: unsupported operand type(s) for -: 'str' and 'str'"
     ]
    }
   ],
   "source": [
    "chisquare(full2.PoolQC,full2.BsmtQual)"
   ]
  },
  {
   "cell_type": "code",
   "execution_count": null,
   "metadata": {},
   "outputs": [],
   "source": []
  }
 ],
 "metadata": {
  "kernelspec": {
   "display_name": "Python 3",
   "language": "python",
   "name": "python3"
  },
  "language_info": {
   "codemirror_mode": {
    "name": "ipython",
    "version": 3
   },
   "file_extension": ".py",
   "mimetype": "text/x-python",
   "name": "python",
   "nbconvert_exporter": "python",
   "pygments_lexer": "ipython3",
   "version": "3.6.5"
  }
 },
 "nbformat": 4,
 "nbformat_minor": 2
}
