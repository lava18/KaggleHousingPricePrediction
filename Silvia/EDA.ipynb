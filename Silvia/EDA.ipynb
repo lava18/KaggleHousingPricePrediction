{
 "cells": [
  {
   "cell_type": "code",
   "execution_count": 83,
   "metadata": {},
   "outputs": [],
   "source": [
    "import pandas as pd\n",
    "import numpy as np\n",
    "from collections import Counter"
   ]
  },
  {
   "cell_type": "code",
   "execution_count": 281,
   "metadata": {},
   "outputs": [],
   "source": [
    "train = pd.read_csv(\"train.csv\")\n",
    "test = pd.read_csv('test.csv')\n",
    "y_train = train['SalePrice']\n",
    "train = train.drop('SalePrice', axis=1)"
   ]
  },
  {
   "cell_type": "code",
   "execution_count": 99,
   "metadata": {},
   "outputs": [],
   "source": [
    "variances = np.var(train)\n",
    "full = pd.concat([train,test], ignore_index=True)"
   ]
  },
  {
   "cell_type": "code",
   "execution_count": null,
   "metadata": {},
   "outputs": [],
   "source": [
    "# 1. Drop categorical features that has 95% or more data that's in the same category. \n",
    "# 90% is a threshold that we can tune later. "
   ]
  },
  {
   "cell_type": "code",
   "execution_count": 97,
   "metadata": {},
   "outputs": [],
   "source": [
    "categorical_features = train.select_dtypes(include=[np.object])\n",
    "numeric_features = train.select_dtypes(include=[np.number])"
   ]
  },
  {
   "cell_type": "code",
   "execution_count": 139,
   "metadata": {},
   "outputs": [],
   "source": [
    "def peek_count(variable):\n",
    "    train_count = Counter(train[variable]).most_common()[0][1]\n",
    "    test_count = Counter(test[variable]).most_common()[0][1]\n",
    "    return (train_count, test_count)"
   ]
  },
  {
   "cell_type": "code",
   "execution_count": 182,
   "metadata": {},
   "outputs": [
    {
     "data": {
      "text/plain": [
       "1387.0"
      ]
     },
     "execution_count": 182,
     "metadata": {},
     "output_type": "execute_result"
    }
   ],
   "source": [
    "threshold = 0.95*1460\n",
    "threshold"
   ]
  },
  {
   "cell_type": "code",
   "execution_count": 183,
   "metadata": {
    "scrolled": true
   },
   "outputs": [
    {
     "name": "stdout",
     "output_type": "stream",
     "text": [
      "Street 1453\n",
      "Utilities 1457\n",
      "Condition2 1444\n",
      "RoofMatl 1434\n",
      "Heating 1428\n",
      "PoolQC 1453\n",
      "MiscFeature 1406\n"
     ]
    }
   ],
   "source": [
    "feature_to_drop = []\n",
    "for i in categorical_features:\n",
    "    if min(peek_count(i)) >= threshold:\n",
    "        print(i, min(peek_count(i)))\n",
    "        feature_to_drop.append(i)"
   ]
  },
  {
   "cell_type": "code",
   "execution_count": 184,
   "metadata": {},
   "outputs": [],
   "source": [
    "full_drop = full.drop(columns = feature_to_drop)\n",
    "train_drop = train.drop(columns = feature_to_drop)\n",
    "test_drop = test.drop(columns = feature_to_drop)"
   ]
  },
  {
   "cell_type": "code",
   "execution_count": 185,
   "metadata": {},
   "outputs": [
    {
     "data": {
      "text/plain": [
       "73"
      ]
     },
     "execution_count": 185,
     "metadata": {},
     "output_type": "execute_result"
    }
   ],
   "source": [
    "len(list(full_drop))"
   ]
  },
  {
   "cell_type": "code",
   "execution_count": 186,
   "metadata": {},
   "outputs": [],
   "source": [
    "# 2. Handling Missing data"
   ]
  },
  {
   "cell_type": "code",
   "execution_count": 187,
   "metadata": {
    "scrolled": true
   },
   "outputs": [
    {
     "data": {
      "text/plain": [
       "LotFrontage    259\n",
       "GarageYrBlt     81\n",
       "MasVnrArea       8\n",
       "dtype: int64"
      ]
     },
     "execution_count": 187,
     "metadata": {},
     "output_type": "execute_result"
    }
   ],
   "source": [
    "numeric_missing = numeric_features.isnull().sum()\n",
    "numeric_missing[numeric_missing>0].sort_values(ascending = False)\n",
    "# For numeric features, not much is missing. So we are not going to drop any of the numeric features."
   ]
  },
  {
   "cell_type": "code",
   "execution_count": 188,
   "metadata": {},
   "outputs": [],
   "source": [
    "total_train = train_drop.isnull().sum()\n",
    "percent_train = (train_drop.isnull().sum()/train_drop.isnull().count())\n",
    "total_test = test_drop.isnull().sum()\n",
    "percent_test = (test_drop.isnull().sum()/test_drop.isnull().count())\n",
    "total_full = full_drop.isnull().sum()\n",
    "percent_full = (full_drop.isnull().sum()/full_drop.isnull().count())\n",
    "missing_data = pd.concat([total_train, percent_train, total_test, percent_test, total_full,\n",
    "                         percent_full], axis=1, \n",
    "                         keys=['Total_train', 'Percent_train', 'Total_test', 'Percent_test',\n",
    "                              'Total_full', 'Percent_full'])"
   ]
  },
  {
   "cell_type": "code",
   "execution_count": 189,
   "metadata": {},
   "outputs": [],
   "source": [
    "# Have a look at the missing values. and start the imputation and data munging. \n",
    "# For missing values, imputing. \n",
    "# For categorical values, do label encoding.\n",
    "# For numerical values, do normalization. "
   ]
  },
  {
   "cell_type": "code",
   "execution_count": 191,
   "metadata": {
    "scrolled": true
   },
   "outputs": [],
   "source": [
    "missing_table = missing_data[missing_data.Total_full!=0].reset_index()"
   ]
  },
  {
   "cell_type": "code",
   "execution_count": 192,
   "metadata": {},
   "outputs": [
    {
     "data": {
      "text/html": [
       "<div>\n",
       "<style scoped>\n",
       "    .dataframe tbody tr th:only-of-type {\n",
       "        vertical-align: middle;\n",
       "    }\n",
       "\n",
       "    .dataframe tbody tr th {\n",
       "        vertical-align: top;\n",
       "    }\n",
       "\n",
       "    .dataframe thead th {\n",
       "        text-align: right;\n",
       "    }\n",
       "</style>\n",
       "<table border=\"1\" class=\"dataframe\">\n",
       "  <thead>\n",
       "    <tr style=\"text-align: right;\">\n",
       "      <th></th>\n",
       "      <th>index</th>\n",
       "      <th>Total_train</th>\n",
       "      <th>Percent_train</th>\n",
       "      <th>Total_test</th>\n",
       "      <th>Percent_test</th>\n",
       "      <th>Total_full</th>\n",
       "      <th>Percent_full</th>\n",
       "    </tr>\n",
       "  </thead>\n",
       "  <tbody>\n",
       "    <tr>\n",
       "      <th>0</th>\n",
       "      <td>MSZoning</td>\n",
       "      <td>0</td>\n",
       "      <td>0.000000</td>\n",
       "      <td>4</td>\n",
       "      <td>0.002742</td>\n",
       "      <td>4</td>\n",
       "      <td>0.001370</td>\n",
       "    </tr>\n",
       "    <tr>\n",
       "      <th>1</th>\n",
       "      <td>LotFrontage</td>\n",
       "      <td>259</td>\n",
       "      <td>0.177397</td>\n",
       "      <td>227</td>\n",
       "      <td>0.155586</td>\n",
       "      <td>486</td>\n",
       "      <td>0.166495</td>\n",
       "    </tr>\n",
       "    <tr>\n",
       "      <th>2</th>\n",
       "      <td>Alley</td>\n",
       "      <td>1369</td>\n",
       "      <td>0.937671</td>\n",
       "      <td>1352</td>\n",
       "      <td>0.926662</td>\n",
       "      <td>2721</td>\n",
       "      <td>0.932169</td>\n",
       "    </tr>\n",
       "    <tr>\n",
       "      <th>3</th>\n",
       "      <td>Exterior1st</td>\n",
       "      <td>0</td>\n",
       "      <td>0.000000</td>\n",
       "      <td>1</td>\n",
       "      <td>0.000685</td>\n",
       "      <td>1</td>\n",
       "      <td>0.000343</td>\n",
       "    </tr>\n",
       "    <tr>\n",
       "      <th>4</th>\n",
       "      <td>Exterior2nd</td>\n",
       "      <td>0</td>\n",
       "      <td>0.000000</td>\n",
       "      <td>1</td>\n",
       "      <td>0.000685</td>\n",
       "      <td>1</td>\n",
       "      <td>0.000343</td>\n",
       "    </tr>\n",
       "    <tr>\n",
       "      <th>5</th>\n",
       "      <td>MasVnrType</td>\n",
       "      <td>8</td>\n",
       "      <td>0.005479</td>\n",
       "      <td>16</td>\n",
       "      <td>0.010966</td>\n",
       "      <td>24</td>\n",
       "      <td>0.008222</td>\n",
       "    </tr>\n",
       "    <tr>\n",
       "      <th>6</th>\n",
       "      <td>MasVnrArea</td>\n",
       "      <td>8</td>\n",
       "      <td>0.005479</td>\n",
       "      <td>15</td>\n",
       "      <td>0.010281</td>\n",
       "      <td>23</td>\n",
       "      <td>0.007879</td>\n",
       "    </tr>\n",
       "    <tr>\n",
       "      <th>7</th>\n",
       "      <td>BsmtQual</td>\n",
       "      <td>37</td>\n",
       "      <td>0.025342</td>\n",
       "      <td>44</td>\n",
       "      <td>0.030158</td>\n",
       "      <td>81</td>\n",
       "      <td>0.027749</td>\n",
       "    </tr>\n",
       "    <tr>\n",
       "      <th>8</th>\n",
       "      <td>BsmtCond</td>\n",
       "      <td>37</td>\n",
       "      <td>0.025342</td>\n",
       "      <td>45</td>\n",
       "      <td>0.030843</td>\n",
       "      <td>82</td>\n",
       "      <td>0.028092</td>\n",
       "    </tr>\n",
       "    <tr>\n",
       "      <th>9</th>\n",
       "      <td>BsmtExposure</td>\n",
       "      <td>38</td>\n",
       "      <td>0.026027</td>\n",
       "      <td>44</td>\n",
       "      <td>0.030158</td>\n",
       "      <td>82</td>\n",
       "      <td>0.028092</td>\n",
       "    </tr>\n",
       "    <tr>\n",
       "      <th>10</th>\n",
       "      <td>BsmtFinType1</td>\n",
       "      <td>37</td>\n",
       "      <td>0.025342</td>\n",
       "      <td>42</td>\n",
       "      <td>0.028787</td>\n",
       "      <td>79</td>\n",
       "      <td>0.027064</td>\n",
       "    </tr>\n",
       "    <tr>\n",
       "      <th>11</th>\n",
       "      <td>BsmtFinSF1</td>\n",
       "      <td>0</td>\n",
       "      <td>0.000000</td>\n",
       "      <td>1</td>\n",
       "      <td>0.000685</td>\n",
       "      <td>1</td>\n",
       "      <td>0.000343</td>\n",
       "    </tr>\n",
       "    <tr>\n",
       "      <th>12</th>\n",
       "      <td>BsmtFinType2</td>\n",
       "      <td>38</td>\n",
       "      <td>0.026027</td>\n",
       "      <td>42</td>\n",
       "      <td>0.028787</td>\n",
       "      <td>80</td>\n",
       "      <td>0.027407</td>\n",
       "    </tr>\n",
       "    <tr>\n",
       "      <th>13</th>\n",
       "      <td>BsmtFinSF2</td>\n",
       "      <td>0</td>\n",
       "      <td>0.000000</td>\n",
       "      <td>1</td>\n",
       "      <td>0.000685</td>\n",
       "      <td>1</td>\n",
       "      <td>0.000343</td>\n",
       "    </tr>\n",
       "    <tr>\n",
       "      <th>14</th>\n",
       "      <td>BsmtUnfSF</td>\n",
       "      <td>0</td>\n",
       "      <td>0.000000</td>\n",
       "      <td>1</td>\n",
       "      <td>0.000685</td>\n",
       "      <td>1</td>\n",
       "      <td>0.000343</td>\n",
       "    </tr>\n",
       "    <tr>\n",
       "      <th>15</th>\n",
       "      <td>TotalBsmtSF</td>\n",
       "      <td>0</td>\n",
       "      <td>0.000000</td>\n",
       "      <td>1</td>\n",
       "      <td>0.000685</td>\n",
       "      <td>1</td>\n",
       "      <td>0.000343</td>\n",
       "    </tr>\n",
       "    <tr>\n",
       "      <th>16</th>\n",
       "      <td>Electrical</td>\n",
       "      <td>1</td>\n",
       "      <td>0.000685</td>\n",
       "      <td>0</td>\n",
       "      <td>0.000000</td>\n",
       "      <td>1</td>\n",
       "      <td>0.000343</td>\n",
       "    </tr>\n",
       "    <tr>\n",
       "      <th>17</th>\n",
       "      <td>BsmtFullBath</td>\n",
       "      <td>0</td>\n",
       "      <td>0.000000</td>\n",
       "      <td>2</td>\n",
       "      <td>0.001371</td>\n",
       "      <td>2</td>\n",
       "      <td>0.000685</td>\n",
       "    </tr>\n",
       "    <tr>\n",
       "      <th>18</th>\n",
       "      <td>BsmtHalfBath</td>\n",
       "      <td>0</td>\n",
       "      <td>0.000000</td>\n",
       "      <td>2</td>\n",
       "      <td>0.001371</td>\n",
       "      <td>2</td>\n",
       "      <td>0.000685</td>\n",
       "    </tr>\n",
       "    <tr>\n",
       "      <th>19</th>\n",
       "      <td>KitchenQual</td>\n",
       "      <td>0</td>\n",
       "      <td>0.000000</td>\n",
       "      <td>1</td>\n",
       "      <td>0.000685</td>\n",
       "      <td>1</td>\n",
       "      <td>0.000343</td>\n",
       "    </tr>\n",
       "    <tr>\n",
       "      <th>20</th>\n",
       "      <td>Functional</td>\n",
       "      <td>0</td>\n",
       "      <td>0.000000</td>\n",
       "      <td>2</td>\n",
       "      <td>0.001371</td>\n",
       "      <td>2</td>\n",
       "      <td>0.000685</td>\n",
       "    </tr>\n",
       "    <tr>\n",
       "      <th>21</th>\n",
       "      <td>FireplaceQu</td>\n",
       "      <td>690</td>\n",
       "      <td>0.472603</td>\n",
       "      <td>730</td>\n",
       "      <td>0.500343</td>\n",
       "      <td>1420</td>\n",
       "      <td>0.486468</td>\n",
       "    </tr>\n",
       "    <tr>\n",
       "      <th>22</th>\n",
       "      <td>GarageType</td>\n",
       "      <td>81</td>\n",
       "      <td>0.055479</td>\n",
       "      <td>76</td>\n",
       "      <td>0.052090</td>\n",
       "      <td>157</td>\n",
       "      <td>0.053786</td>\n",
       "    </tr>\n",
       "    <tr>\n",
       "      <th>23</th>\n",
       "      <td>GarageYrBlt</td>\n",
       "      <td>81</td>\n",
       "      <td>0.055479</td>\n",
       "      <td>78</td>\n",
       "      <td>0.053461</td>\n",
       "      <td>159</td>\n",
       "      <td>0.054471</td>\n",
       "    </tr>\n",
       "    <tr>\n",
       "      <th>24</th>\n",
       "      <td>GarageFinish</td>\n",
       "      <td>81</td>\n",
       "      <td>0.055479</td>\n",
       "      <td>78</td>\n",
       "      <td>0.053461</td>\n",
       "      <td>159</td>\n",
       "      <td>0.054471</td>\n",
       "    </tr>\n",
       "    <tr>\n",
       "      <th>25</th>\n",
       "      <td>GarageCars</td>\n",
       "      <td>0</td>\n",
       "      <td>0.000000</td>\n",
       "      <td>1</td>\n",
       "      <td>0.000685</td>\n",
       "      <td>1</td>\n",
       "      <td>0.000343</td>\n",
       "    </tr>\n",
       "    <tr>\n",
       "      <th>26</th>\n",
       "      <td>GarageArea</td>\n",
       "      <td>0</td>\n",
       "      <td>0.000000</td>\n",
       "      <td>1</td>\n",
       "      <td>0.000685</td>\n",
       "      <td>1</td>\n",
       "      <td>0.000343</td>\n",
       "    </tr>\n",
       "    <tr>\n",
       "      <th>27</th>\n",
       "      <td>GarageQual</td>\n",
       "      <td>81</td>\n",
       "      <td>0.055479</td>\n",
       "      <td>78</td>\n",
       "      <td>0.053461</td>\n",
       "      <td>159</td>\n",
       "      <td>0.054471</td>\n",
       "    </tr>\n",
       "    <tr>\n",
       "      <th>28</th>\n",
       "      <td>GarageCond</td>\n",
       "      <td>81</td>\n",
       "      <td>0.055479</td>\n",
       "      <td>78</td>\n",
       "      <td>0.053461</td>\n",
       "      <td>159</td>\n",
       "      <td>0.054471</td>\n",
       "    </tr>\n",
       "    <tr>\n",
       "      <th>29</th>\n",
       "      <td>Fence</td>\n",
       "      <td>1179</td>\n",
       "      <td>0.807534</td>\n",
       "      <td>1169</td>\n",
       "      <td>0.801234</td>\n",
       "      <td>2348</td>\n",
       "      <td>0.804385</td>\n",
       "    </tr>\n",
       "    <tr>\n",
       "      <th>30</th>\n",
       "      <td>SaleType</td>\n",
       "      <td>0</td>\n",
       "      <td>0.000000</td>\n",
       "      <td>1</td>\n",
       "      <td>0.000685</td>\n",
       "      <td>1</td>\n",
       "      <td>0.000343</td>\n",
       "    </tr>\n",
       "  </tbody>\n",
       "</table>\n",
       "</div>"
      ],
      "text/plain": [
       "           index  Total_train  Percent_train  Total_test  Percent_test  \\\n",
       "0       MSZoning            0       0.000000           4      0.002742   \n",
       "1    LotFrontage          259       0.177397         227      0.155586   \n",
       "2          Alley         1369       0.937671        1352      0.926662   \n",
       "3    Exterior1st            0       0.000000           1      0.000685   \n",
       "4    Exterior2nd            0       0.000000           1      0.000685   \n",
       "5     MasVnrType            8       0.005479          16      0.010966   \n",
       "6     MasVnrArea            8       0.005479          15      0.010281   \n",
       "7       BsmtQual           37       0.025342          44      0.030158   \n",
       "8       BsmtCond           37       0.025342          45      0.030843   \n",
       "9   BsmtExposure           38       0.026027          44      0.030158   \n",
       "10  BsmtFinType1           37       0.025342          42      0.028787   \n",
       "11    BsmtFinSF1            0       0.000000           1      0.000685   \n",
       "12  BsmtFinType2           38       0.026027          42      0.028787   \n",
       "13    BsmtFinSF2            0       0.000000           1      0.000685   \n",
       "14     BsmtUnfSF            0       0.000000           1      0.000685   \n",
       "15   TotalBsmtSF            0       0.000000           1      0.000685   \n",
       "16    Electrical            1       0.000685           0      0.000000   \n",
       "17  BsmtFullBath            0       0.000000           2      0.001371   \n",
       "18  BsmtHalfBath            0       0.000000           2      0.001371   \n",
       "19   KitchenQual            0       0.000000           1      0.000685   \n",
       "20    Functional            0       0.000000           2      0.001371   \n",
       "21   FireplaceQu          690       0.472603         730      0.500343   \n",
       "22    GarageType           81       0.055479          76      0.052090   \n",
       "23   GarageYrBlt           81       0.055479          78      0.053461   \n",
       "24  GarageFinish           81       0.055479          78      0.053461   \n",
       "25    GarageCars            0       0.000000           1      0.000685   \n",
       "26    GarageArea            0       0.000000           1      0.000685   \n",
       "27    GarageQual           81       0.055479          78      0.053461   \n",
       "28    GarageCond           81       0.055479          78      0.053461   \n",
       "29         Fence         1179       0.807534        1169      0.801234   \n",
       "30      SaleType            0       0.000000           1      0.000685   \n",
       "\n",
       "    Total_full  Percent_full  \n",
       "0            4      0.001370  \n",
       "1          486      0.166495  \n",
       "2         2721      0.932169  \n",
       "3            1      0.000343  \n",
       "4            1      0.000343  \n",
       "5           24      0.008222  \n",
       "6           23      0.007879  \n",
       "7           81      0.027749  \n",
       "8           82      0.028092  \n",
       "9           82      0.028092  \n",
       "10          79      0.027064  \n",
       "11           1      0.000343  \n",
       "12          80      0.027407  \n",
       "13           1      0.000343  \n",
       "14           1      0.000343  \n",
       "15           1      0.000343  \n",
       "16           1      0.000343  \n",
       "17           2      0.000685  \n",
       "18           2      0.000685  \n",
       "19           1      0.000343  \n",
       "20           2      0.000685  \n",
       "21        1420      0.486468  \n",
       "22         157      0.053786  \n",
       "23         159      0.054471  \n",
       "24         159      0.054471  \n",
       "25           1      0.000343  \n",
       "26           1      0.000343  \n",
       "27         159      0.054471  \n",
       "28         159      0.054471  \n",
       "29        2348      0.804385  \n",
       "30           1      0.000343  "
      ]
     },
     "execution_count": 192,
     "metadata": {},
     "output_type": "execute_result"
    }
   ],
   "source": [
    "missing_table"
   ]
  },
  {
   "cell_type": "code",
   "execution_count": null,
   "metadata": {},
   "outputs": [],
   "source": [
    "# First, impute those with random missing values and replace the missing values with a random category or number."
   ]
  },
  {
   "cell_type": "code",
   "execution_count": 198,
   "metadata": {},
   "outputs": [],
   "source": [
    "missing_5 = missing_table[missing_table.Total_full<=5]"
   ]
  },
  {
   "cell_type": "code",
   "execution_count": 230,
   "metadata": {},
   "outputs": [],
   "source": [
    "def random_fill_cate(variable):\n",
    "    train_drop[variable] = train_drop[variable].fillna(np.random.choice(list(set(train_drop[variable]))))\n",
    "    test_drop[variable] = test_drop[variable].fillna(np.random.choice(list(set(test_drop[variable]))))"
   ]
  },
  {
   "cell_type": "code",
   "execution_count": 231,
   "metadata": {},
   "outputs": [],
   "source": [
    "for i in missing_5['index']:\n",
    "    if i in categorical_features:\n",
    "        random_fill_cate(i)\n",
    "    else:\n",
    "        train_drop[i] = train_drop[i].fillna(0)\n",
    "        test_drop[i] = test_drop[i].fillna(0)"
   ]
  },
  {
   "cell_type": "code",
   "execution_count": 233,
   "metadata": {
    "scrolled": true
   },
   "outputs": [
    {
     "name": "stdout",
     "output_type": "stream",
     "text": [
      "MSZoning 0\n",
      "Exterior1st 0\n",
      "Exterior2nd 0\n",
      "BsmtFinSF1 0\n",
      "BsmtFinSF2 0\n",
      "BsmtUnfSF 0\n",
      "TotalBsmtSF 0\n",
      "Electrical 0\n",
      "BsmtFullBath 0\n",
      "BsmtHalfBath 0\n",
      "KitchenQual 0\n",
      "Functional 0\n",
      "GarageCars 0\n",
      "GarageArea 0\n",
      "SaleType 0\n"
     ]
    }
   ],
   "source": [
    "# Check if every variable has been imputed. \n",
    "for i in missing_5['index']:\n",
    "    print(i,test_drop[i].isnull().sum())"
   ]
  },
  {
   "cell_type": "code",
   "execution_count": 234,
   "metadata": {},
   "outputs": [
    {
     "data": {
      "text/html": [
       "<div>\n",
       "<style scoped>\n",
       "    .dataframe tbody tr th:only-of-type {\n",
       "        vertical-align: middle;\n",
       "    }\n",
       "\n",
       "    .dataframe tbody tr th {\n",
       "        vertical-align: top;\n",
       "    }\n",
       "\n",
       "    .dataframe thead th {\n",
       "        text-align: right;\n",
       "    }\n",
       "</style>\n",
       "<table border=\"1\" class=\"dataframe\">\n",
       "  <thead>\n",
       "    <tr style=\"text-align: right;\">\n",
       "      <th></th>\n",
       "      <th>index</th>\n",
       "      <th>Total_train</th>\n",
       "      <th>Percent_train</th>\n",
       "      <th>Total_test</th>\n",
       "      <th>Percent_test</th>\n",
       "      <th>Total_full</th>\n",
       "      <th>Percent_full</th>\n",
       "    </tr>\n",
       "  </thead>\n",
       "  <tbody>\n",
       "    <tr>\n",
       "      <th>1</th>\n",
       "      <td>LotFrontage</td>\n",
       "      <td>259</td>\n",
       "      <td>0.177397</td>\n",
       "      <td>227</td>\n",
       "      <td>0.155586</td>\n",
       "      <td>486</td>\n",
       "      <td>0.166495</td>\n",
       "    </tr>\n",
       "    <tr>\n",
       "      <th>2</th>\n",
       "      <td>Alley</td>\n",
       "      <td>1369</td>\n",
       "      <td>0.937671</td>\n",
       "      <td>1352</td>\n",
       "      <td>0.926662</td>\n",
       "      <td>2721</td>\n",
       "      <td>0.932169</td>\n",
       "    </tr>\n",
       "    <tr>\n",
       "      <th>5</th>\n",
       "      <td>MasVnrType</td>\n",
       "      <td>8</td>\n",
       "      <td>0.005479</td>\n",
       "      <td>16</td>\n",
       "      <td>0.010966</td>\n",
       "      <td>24</td>\n",
       "      <td>0.008222</td>\n",
       "    </tr>\n",
       "    <tr>\n",
       "      <th>6</th>\n",
       "      <td>MasVnrArea</td>\n",
       "      <td>8</td>\n",
       "      <td>0.005479</td>\n",
       "      <td>15</td>\n",
       "      <td>0.010281</td>\n",
       "      <td>23</td>\n",
       "      <td>0.007879</td>\n",
       "    </tr>\n",
       "    <tr>\n",
       "      <th>7</th>\n",
       "      <td>BsmtQual</td>\n",
       "      <td>37</td>\n",
       "      <td>0.025342</td>\n",
       "      <td>44</td>\n",
       "      <td>0.030158</td>\n",
       "      <td>81</td>\n",
       "      <td>0.027749</td>\n",
       "    </tr>\n",
       "    <tr>\n",
       "      <th>8</th>\n",
       "      <td>BsmtCond</td>\n",
       "      <td>37</td>\n",
       "      <td>0.025342</td>\n",
       "      <td>45</td>\n",
       "      <td>0.030843</td>\n",
       "      <td>82</td>\n",
       "      <td>0.028092</td>\n",
       "    </tr>\n",
       "    <tr>\n",
       "      <th>9</th>\n",
       "      <td>BsmtExposure</td>\n",
       "      <td>38</td>\n",
       "      <td>0.026027</td>\n",
       "      <td>44</td>\n",
       "      <td>0.030158</td>\n",
       "      <td>82</td>\n",
       "      <td>0.028092</td>\n",
       "    </tr>\n",
       "    <tr>\n",
       "      <th>10</th>\n",
       "      <td>BsmtFinType1</td>\n",
       "      <td>37</td>\n",
       "      <td>0.025342</td>\n",
       "      <td>42</td>\n",
       "      <td>0.028787</td>\n",
       "      <td>79</td>\n",
       "      <td>0.027064</td>\n",
       "    </tr>\n",
       "    <tr>\n",
       "      <th>12</th>\n",
       "      <td>BsmtFinType2</td>\n",
       "      <td>38</td>\n",
       "      <td>0.026027</td>\n",
       "      <td>42</td>\n",
       "      <td>0.028787</td>\n",
       "      <td>80</td>\n",
       "      <td>0.027407</td>\n",
       "    </tr>\n",
       "    <tr>\n",
       "      <th>21</th>\n",
       "      <td>FireplaceQu</td>\n",
       "      <td>690</td>\n",
       "      <td>0.472603</td>\n",
       "      <td>730</td>\n",
       "      <td>0.500343</td>\n",
       "      <td>1420</td>\n",
       "      <td>0.486468</td>\n",
       "    </tr>\n",
       "    <tr>\n",
       "      <th>22</th>\n",
       "      <td>GarageType</td>\n",
       "      <td>81</td>\n",
       "      <td>0.055479</td>\n",
       "      <td>76</td>\n",
       "      <td>0.052090</td>\n",
       "      <td>157</td>\n",
       "      <td>0.053786</td>\n",
       "    </tr>\n",
       "    <tr>\n",
       "      <th>23</th>\n",
       "      <td>GarageYrBlt</td>\n",
       "      <td>81</td>\n",
       "      <td>0.055479</td>\n",
       "      <td>78</td>\n",
       "      <td>0.053461</td>\n",
       "      <td>159</td>\n",
       "      <td>0.054471</td>\n",
       "    </tr>\n",
       "    <tr>\n",
       "      <th>24</th>\n",
       "      <td>GarageFinish</td>\n",
       "      <td>81</td>\n",
       "      <td>0.055479</td>\n",
       "      <td>78</td>\n",
       "      <td>0.053461</td>\n",
       "      <td>159</td>\n",
       "      <td>0.054471</td>\n",
       "    </tr>\n",
       "    <tr>\n",
       "      <th>27</th>\n",
       "      <td>GarageQual</td>\n",
       "      <td>81</td>\n",
       "      <td>0.055479</td>\n",
       "      <td>78</td>\n",
       "      <td>0.053461</td>\n",
       "      <td>159</td>\n",
       "      <td>0.054471</td>\n",
       "    </tr>\n",
       "    <tr>\n",
       "      <th>28</th>\n",
       "      <td>GarageCond</td>\n",
       "      <td>81</td>\n",
       "      <td>0.055479</td>\n",
       "      <td>78</td>\n",
       "      <td>0.053461</td>\n",
       "      <td>159</td>\n",
       "      <td>0.054471</td>\n",
       "    </tr>\n",
       "    <tr>\n",
       "      <th>29</th>\n",
       "      <td>Fence</td>\n",
       "      <td>1179</td>\n",
       "      <td>0.807534</td>\n",
       "      <td>1169</td>\n",
       "      <td>0.801234</td>\n",
       "      <td>2348</td>\n",
       "      <td>0.804385</td>\n",
       "    </tr>\n",
       "  </tbody>\n",
       "</table>\n",
       "</div>"
      ],
      "text/plain": [
       "           index  Total_train  Percent_train  Total_test  Percent_test  \\\n",
       "1    LotFrontage          259       0.177397         227      0.155586   \n",
       "2          Alley         1369       0.937671        1352      0.926662   \n",
       "5     MasVnrType            8       0.005479          16      0.010966   \n",
       "6     MasVnrArea            8       0.005479          15      0.010281   \n",
       "7       BsmtQual           37       0.025342          44      0.030158   \n",
       "8       BsmtCond           37       0.025342          45      0.030843   \n",
       "9   BsmtExposure           38       0.026027          44      0.030158   \n",
       "10  BsmtFinType1           37       0.025342          42      0.028787   \n",
       "12  BsmtFinType2           38       0.026027          42      0.028787   \n",
       "21   FireplaceQu          690       0.472603         730      0.500343   \n",
       "22    GarageType           81       0.055479          76      0.052090   \n",
       "23   GarageYrBlt           81       0.055479          78      0.053461   \n",
       "24  GarageFinish           81       0.055479          78      0.053461   \n",
       "27    GarageQual           81       0.055479          78      0.053461   \n",
       "28    GarageCond           81       0.055479          78      0.053461   \n",
       "29         Fence         1179       0.807534        1169      0.801234   \n",
       "\n",
       "    Total_full  Percent_full  \n",
       "1          486      0.166495  \n",
       "2         2721      0.932169  \n",
       "5           24      0.008222  \n",
       "6           23      0.007879  \n",
       "7           81      0.027749  \n",
       "8           82      0.028092  \n",
       "9           82      0.028092  \n",
       "10          79      0.027064  \n",
       "12          80      0.027407  \n",
       "21        1420      0.486468  \n",
       "22         157      0.053786  \n",
       "23         159      0.054471  \n",
       "24         159      0.054471  \n",
       "27         159      0.054471  \n",
       "28         159      0.054471  \n",
       "29        2348      0.804385  "
      ]
     },
     "execution_count": 234,
     "metadata": {},
     "output_type": "execute_result"
    }
   ],
   "source": [
    "missing_NR = missing_table[missing_table.Total_full > 5]\n",
    "missing_NR"
   ]
  },
  {
   "cell_type": "code",
   "execution_count": 245,
   "metadata": {},
   "outputs": [],
   "source": [
    "impute_with_none_list = []\n",
    "impute_numeric_list = []\n",
    "for i in missing_NR['index']:\n",
    "    if i in categorical_features:\n",
    "        impute_with_none_list.append(i)\n",
    "    else:\n",
    "        impute_numeric_list.append(i)"
   ]
  },
  {
   "cell_type": "code",
   "execution_count": 244,
   "metadata": {},
   "outputs": [],
   "source": [
    "def impute_with_none(variable):\n",
    "    train_drop.loc[train_drop[variable].isnull(),variable] = 'none'\n",
    "    test_drop.loc[train_drop[variable].isnull(),variable] = 'none'\n",
    "for i in impute_with_none_list:\n",
    "    impute_with_none(i)"
   ]
  },
  {
   "cell_type": "code",
   "execution_count": 248,
   "metadata": {},
   "outputs": [],
   "source": [
    "train_drop.loc[train_drop['MasVnrArea'].isnull(),'MasVnrArea'] = 0\n",
    "train_drop.loc[train_drop['GarageYrBlt'].isnull(),'GarageYrBlt'] = 0\n",
    "test_drop.loc[test_drop['MasVnrArea'].isnull(),'MasVnrArea'] = 0\n",
    "test_drop.loc[test_drop['GarageYrBlt'].isnull(),'GarageYrBlt'] = 0"
   ]
  },
  {
   "cell_type": "code",
   "execution_count": 249,
   "metadata": {},
   "outputs": [],
   "source": [
    "train_drop['SqrtLotArea']=np.sqrt(train_drop['LotArea'])\n",
    "train_drop.LotFrontage[train_drop['LotFrontage'].isnull()]=train_drop.SqrtLotArea[train_drop['LotFrontage'].isnull()]\n",
    "del train_drop['SqrtLotArea']train_drop.loc[train_drop[variable].isnull(),variable] = 'none'\n"
   ]
  },
  {
   "cell_type": "code",
   "execution_count": 250,
   "metadata": {},
   "outputs": [],
   "source": [
    "test_drop['SqrtLotArea']=np.sqrt(test_drop['LotArea'])\n",
    "test_drop.LotFrontage[test_drop['LotFrontage'].isnull()]=test_drop.SqrtLotArea[test_drop['LotFrontage'].isnull()]\n",
    "del test_drop['SqrtLotArea']\n"
   ]
  },
  {
   "cell_type": "code",
   "execution_count": 268,
   "metadata": {},
   "outputs": [],
   "source": [
    "from sklearn.preprocessing import LabelEncoder\n",
    "\n",
    "label_train = train_drop.copy()\n",
    "label_test = test_drop.copy()\n",
    "\n",
    "for c in label_train.columns:\n",
    "    if label_train[c].dtype == 'object':\n",
    "        le = LabelEncoder()\n",
    "        # Need to convert the column type to string in order to encode missing values\n",
    "        label_train[c] = le.fit_transform(label_train[c].astype(str))\n",
    "        label_test[c] = le.fit_transform(label_test[c].astype(str))"
   ]
  },
  {
   "cell_type": "code",
   "execution_count": 275,
   "metadata": {},
   "outputs": [
    {
     "data": {
      "text/plain": [
       "72"
      ]
     },
     "execution_count": 275,
     "metadata": {},
     "output_type": "execute_result"
    }
   ],
   "source": [
    "x_train = label_train.iloc[:,1:]\n",
    "x_test = label_test.iloc[:,1:]\n",
    "len(list(x_test))"
   ]
  },
  {
   "cell_type": "code",
   "execution_count": null,
   "metadata": {},
   "outputs": [],
   "source": []
  },
  {
   "cell_type": "code",
   "execution_count": 300,
   "metadata": {},
   "outputs": [
    {
     "data": {
      "text/plain": [
       "RandomForestRegressor(bootstrap=True, criterion='mse', max_depth=None,\n",
       "           max_features='auto', max_leaf_nodes=None,\n",
       "           min_impurity_decrease=0.0, min_impurity_split=None,\n",
       "           min_samples_leaf=1, min_samples_split=2,\n",
       "           min_weight_fraction_leaf=0.0, n_estimators=10, n_jobs=1,\n",
       "           oob_score=True, random_state=42, verbose=0, warm_start=False)"
      ]
     },
     "execution_count": 300,
     "metadata": {},
     "output_type": "execute_result"
    }
   ],
   "source": [
    "from sklearn import ensemble\n",
    "randomForest = ensemble.RandomForestRegressor()\n",
    "randomForest.set_params(oob_score=True, random_state=42)\n",
    "randomForest.fit(x_train, y_train)"
   ]
  },
  {
   "cell_type": "code",
   "execution_count": 302,
   "metadata": {},
   "outputs": [
    {
     "data": {
      "text/plain": [
       "0       208500.0\n",
       "1       181500.0\n",
       "2       223500.0\n",
       "3       140000.0\n",
       "4       250000.0\n",
       "5       143000.0\n",
       "6       307000.0\n",
       "7       200000.0\n",
       "8       129900.0\n",
       "9       118000.0\n",
       "10      129500.0\n",
       "11      345000.0\n",
       "12      144000.0\n",
       "13      279500.0\n",
       "14      157000.0\n",
       "15      132000.0\n",
       "16      149000.0\n",
       "17       90000.0\n",
       "18      159000.0\n",
       "19      139000.0\n",
       "20      325300.0\n",
       "21      139400.0\n",
       "22      230000.0\n",
       "23      129900.0\n",
       "24      154000.0\n",
       "25      256300.0\n",
       "26      134800.0\n",
       "27      306000.0\n",
       "28      207500.0\n",
       "29       68500.0\n",
       "          ...   \n",
       "1430    192140.0\n",
       "1431    143750.0\n",
       "1432     64500.0\n",
       "1433    186500.0\n",
       "1434    160000.0\n",
       "1435    174000.0\n",
       "1436    120500.0\n",
       "1437    394617.0\n",
       "1438    149700.0\n",
       "1439    197000.0\n",
       "1440    191000.0\n",
       "1441    149300.0\n",
       "1442    310000.0\n",
       "1443    121000.0\n",
       "1444    179600.0\n",
       "1445    129000.0\n",
       "1446    157900.0\n",
       "1447    240000.0\n",
       "1448    112000.0\n",
       "1449     92000.0\n",
       "1450    136000.0\n",
       "1451    287090.0\n",
       "1452    145000.0\n",
       "1453     84500.0\n",
       "1454    185000.0\n",
       "1455    175000.0\n",
       "1456    210000.0\n",
       "1457    266500.0\n",
       "1458    142125.0\n",
       "1459    147500.0\n",
       "Name: SalePrice, Length: 1460, dtype: float64"
      ]
     },
     "execution_count": 302,
     "metadata": {},
     "output_type": "execute_result"
    }
   ],
   "source": [
    "y_train.astype(float)"
   ]
  },
  {
   "cell_type": "code",
   "execution_count": 303,
   "metadata": {},
   "outputs": [
    {
     "data": {
      "text/plain": [
       "0.7280110226169385"
      ]
     },
     "execution_count": 303,
     "metadata": {},
     "output_type": "execute_result"
    }
   ],
   "source": [
    "randomForest.oob_score_"
   ]
  },
  {
   "cell_type": "code",
   "execution_count": 304,
   "metadata": {},
   "outputs": [
    {
     "data": {
      "text/plain": [
       "array([202040. , 176650. , 212850. , ..., 269000. , 149937.5, 148500. ])"
      ]
     },
     "execution_count": 304,
     "metadata": {},
     "output_type": "execute_result"
    }
   ],
   "source": [
    "randomForest.predict(x_train)"
   ]
  },
  {
   "cell_type": "code",
   "execution_count": 305,
   "metadata": {
    "scrolled": true
   },
   "outputs": [],
   "source": [
    "results = randomForest.predict(x_test)"
   ]
  },
  {
   "cell_type": "code",
   "execution_count": 306,
   "metadata": {},
   "outputs": [
    {
     "data": {
      "text/plain": [
       "dtype('float64')"
      ]
     },
     "execution_count": 306,
     "metadata": {},
     "output_type": "execute_result"
    }
   ],
   "source": [
    "results[0].dtype"
   ]
  },
  {
   "cell_type": "code",
   "execution_count": 280,
   "metadata": {},
   "outputs": [],
   "source": [
    "np.savetxt(\"results.csv\", results, delimiter=\",\")"
   ]
  },
  {
   "cell_type": "code",
   "execution_count": 13,
   "metadata": {
    "scrolled": true
   },
   "outputs": [
    {
     "data": {
      "text/plain": [
       "<matplotlib.axes._subplots.AxesSubplot at 0x1a0f0d0780>"
      ]
     },
     "execution_count": 13,
     "metadata": {},
     "output_type": "execute_result"
    },
    {
     "data": {
      "image/png": "[encoded data removed]",
      "text/plain": [
       "<Figure size 432x288 with 2 Axes>"
      ]
     },
     "metadata": {},
     "output_type": "display_data"
    }
   ],
   "source": [
    "import seaborn as sns\n",
    "corr = full.corr()\n",
    "sns.heatmap(corr, vmax = 1, square = True)"
   ]
  },
  {
   "cell_type": "code",
   "execution_count": null,
   "metadata": {},
   "outputs": [],
   "source": []
  }
 ],
 "metadata": {
  "kernelspec": {
   "display_name": "Python 3",
   "language": "python",
   "name": "python3"
  },
  "language_info": {
   "codemirror_mode": {
    "name": "ipython",
    "version": 3
   },
   "file_extension": ".py",
   "mimetype": "text/x-python",
   "name": "python",
   "nbconvert_exporter": "python",
   "pygments_lexer": "ipython3",
   "version": "3.6.5"
  }
 },
 "nbformat": 4,
 "nbformat_minor": 2
}
